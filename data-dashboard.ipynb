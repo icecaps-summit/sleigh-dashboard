{
  "cells": [
    {
      "cell_type": "raw",
      "metadata": {},
      "source": [
        "---\n",
        "title: \"ICECAPS-MELT - RAVEN CAMP 2024\"\n",
        "#author: \n",
        "#    Von P. Walden\n",
        "#    Michael Gallagher\n",
        "format: dashboard\n",
        "---"
      ],
      "id": "0304ce36"
    },
    {
      "cell_type": "code",
      "metadata": {},
      "source": [
        "#| output: false\n",
        "import numpy as np\n",
        "import pandas as pd\n",
        "\n",
        "import plotly.express as px"
      ],
      "id": "4fe43909",
      "execution_count": null,
      "outputs": []
    },
    {
      "cell_type": "markdown",
      "metadata": {},
      "source": [
        "# INTRO\n",
        "\n",
        "This is a data dashboard for the ICECAPS-MELT SLEIGH (Surface Level Environmental Information for Greenland Hydrology) deployment to Raven in summer 2024. \n",
        "\n",
        "| Tab           | Description                          |\n",
        "|---------------|--------------------------------------|\n",
        "| [MVP](#mvp)   | Minimum Viable Powersystem           |\n",
        "| [INST](#inst) | Instrument Uptime                    |\n",
        "| [MET](#met)   | Near-surface meteorology             |\n",
        "| [SEB](#seb)   | Surface Energy Budget                |\n",
        "| [CLD](#cld)   | Clouds over SLEIGH                   |\n",
        "\n",
        "Information on ICECAPS can be found [here](https://journals.ametsoc.org/view/journals/bams/94/2/bams-d-11-00249.1.xml).\n",
        "\n",
        "\n",
        "# MVP\n"
      ],
      "id": "707b6a2d"
    },
    {
      "cell_type": "code",
      "metadata": {},
      "source": [
        "mvp = pd.DataFrame({'time': pd.date_range(start='2023-11-07', end='2023-11-08', freq='min'),\n",
        "                    'power': np.random.randn(24*60 + 1)*5 + 220,\n",
        "                    'voltage': np.random.randn(24*60 + 1) + 13,\n",
        "                    'current':np.random.randn(24*60 + 1) + 40})\n",
        "mvp.index = mvp.time\n",
        "\n",
        "current_P = mvp.power.iloc[-1]           # Watts\n",
        "current_V = mvp.voltage.iloc[-1]         # volts\n",
        "current_I = mvp.current.iloc[-1]         # amps"
      ],
      "id": "89ac4544",
      "execution_count": null,
      "outputs": []
    },
    {
      "cell_type": "markdown",
      "metadata": {},
      "source": [
        "## Row {height=20%}\n"
      ],
      "id": "bed8ac64"
    },
    {
      "cell_type": "code",
      "metadata": {
        "component": "valuebox",
        "title": "Power Draw (W)"
      },
      "source": [
        "if current_P < 400:\n",
        "    color_P = 'success'\n",
        "elif (current_P >= 400) and (current_P < 500):\n",
        "    color_P = 'warning'\n",
        "else:\n",
        "    color_P = 'danger'\n",
        "dict(\n",
        "    icon = 'battery',\n",
        "    color = color_P,\n",
        "    value = np.round(current_P)\n",
        ")"
      ],
      "id": "9dc884db",
      "execution_count": null,
      "outputs": []
    },
    {
      "cell_type": "code",
      "metadata": {
        "component": "valuebox",
        "title": "Voltage (volts)"
      },
      "source": [
        "if (current_V >= 12) and (current_V < 14):\n",
        "    color_V = 'success'\n",
        "elif ((current_V >= 11) and (current_V < 12)) or ((current_V >= 14) and (current_V < 15)):\n",
        "    color_V = 'warning'\n",
        "else:\n",
        "    color_V = 'danger'\n",
        "dict(\n",
        "    icon = 'battery',\n",
        "    color = color_V,\n",
        "    value = np.round(current_V)\n",
        ")"
      ],
      "id": "7d03972d",
      "execution_count": null,
      "outputs": []
    },
    {
      "cell_type": "code",
      "metadata": {
        "component": "valuebox",
        "title": "Current (amps)"
      },
      "source": [
        "if current_I < 30:\n",
        "    color_I = 'success'\n",
        "elif (current_P >= 30) and (current_P < 40):\n",
        "    color_I = 'warning'\n",
        "else:\n",
        "    color_I = 'danger'\n",
        "\n",
        "dict(\n",
        "    icon = 'battery',\n",
        "    color = color_I,\n",
        "    value = np.round(current_I)\n",
        ")"
      ],
      "id": "d522a7fe",
      "execution_count": null,
      "outputs": []
    },
    {
      "cell_type": "markdown",
      "metadata": {},
      "source": [
        "## Row {height=40%}"
      ],
      "id": "3327b2ec"
    },
    {
      "cell_type": "code",
      "metadata": {},
      "source": [
        "fig = px.line(mvp, x='time', y=\"power\")\n",
        "fig.update_traces(line_color='maroon')"
      ],
      "id": "cf5e7a35",
      "execution_count": null,
      "outputs": []
    },
    {
      "cell_type": "markdown",
      "metadata": {},
      "source": [
        "## Row {height=40%}"
      ],
      "id": "51862a12"
    },
    {
      "cell_type": "code",
      "metadata": {},
      "source": [
        "fig = px.line(mvp, x='time', y=\"voltage\")\n",
        "fig.update_traces(line_color='lightcoral')"
      ],
      "id": "ad915ce0",
      "execution_count": null,
      "outputs": []
    },
    {
      "cell_type": "markdown",
      "metadata": {},
      "source": [
        "# INST\n",
        "\n",
        "## Row {height=100%}\n"
      ],
      "id": "aa8ab5be"
    },
    {
      "cell_type": "code",
      "metadata": {
        "title": "Instrument Uptime"
      },
      "source": [
        "time = pd.date_range(start='2023-11-07', end='2023-11-08', freq='H').strftime('%Y%m%d %H')\n",
        "name = ['T2m', 'q2m', 'Simba', 'Sonic', 'KT15', 'CL61', 'MRR', 'MWR', 'GPR']\n",
        "data = np.random.randn(len(time), len(name))\n",
        "instruments = pd.DataFrame(data=data, columns=name, index=time)\n",
        "instruments[instruments>=0] = 1\n",
        "instruments[instruments<0] = 0\n",
        "\n",
        "fig = px.imshow(instruments.T, color_continuous_scale=['red', 'green'])\n",
        "fig.update_coloraxes(showscale=False)"
      ],
      "id": "d7189c8a",
      "execution_count": null,
      "outputs": []
    },
    {
      "cell_type": "markdown",
      "metadata": {},
      "source": [
        "# MET\n"
      ],
      "id": "7dcf1cf5"
    },
    {
      "cell_type": "code",
      "metadata": {},
      "source": [
        "met = pd.DataFrame({'time': pd.date_range(start='2023-11-07', end='2023-11-08', freq='min'),\n",
        "                    'temperature':    np.random.random(24*60 + 1)*5 - 20, \n",
        "                    'humidity':       np.random.random(24*60 + 1)*5 + 80, \n",
        "                    'wind speed':     np.random.random(24*60 + 1)*5 + 5,\n",
        "                    'wind direction': np.random.random(24*60 + 1)*360 - 180,\n",
        "                    })\n",
        "met.index = met.time"
      ],
      "id": "c6ffc481",
      "execution_count": null,
      "outputs": []
    },
    {
      "cell_type": "markdown",
      "metadata": {},
      "source": [
        "## Row {height=25%}"
      ],
      "id": "4fb31a24"
    },
    {
      "cell_type": "code",
      "metadata": {},
      "source": [
        "fig = px.line(met, x='time', y=\"temperature\")\n",
        "fig.update_traces(line_color='purple')"
      ],
      "id": "c9425cf5",
      "execution_count": null,
      "outputs": []
    },
    {
      "cell_type": "markdown",
      "metadata": {},
      "source": [
        "## Row {height=25%}"
      ],
      "id": "344e057c"
    },
    {
      "cell_type": "code",
      "metadata": {},
      "source": [
        "fig = px.line(met, x='time', y=\"humidity\")\n",
        "fig.update_traces(line_color='blue')"
      ],
      "id": "818d63a6",
      "execution_count": null,
      "outputs": []
    },
    {
      "cell_type": "markdown",
      "metadata": {},
      "source": [
        "## Row {height=25%}"
      ],
      "id": "51653444"
    },
    {
      "cell_type": "code",
      "metadata": {},
      "source": [
        "fig = px.line(met, x='time', y=\"wind speed\")\n",
        "fig.update_traces(line_color='green')"
      ],
      "id": "a8300334",
      "execution_count": null,
      "outputs": []
    },
    {
      "cell_type": "markdown",
      "metadata": {},
      "source": [
        "## Row {height=25%}"
      ],
      "id": "926925cb"
    },
    {
      "cell_type": "code",
      "metadata": {},
      "source": [
        "fig = px.line(met, x='time', y=\"wind direction\")\n",
        "fig.update_traces(line_color='darkgray')"
      ],
      "id": "72463c94",
      "execution_count": null,
      "outputs": []
    },
    {
      "cell_type": "markdown",
      "metadata": {},
      "source": [
        "# SEB\n"
      ],
      "id": "3c38b6f8"
    },
    {
      "cell_type": "code",
      "metadata": {},
      "source": [
        "seb = pd.DataFrame({'time': pd.date_range(start='2023-11-07', end='2023-11-08', freq='min'),\n",
        "                    'net radiation': np.random.random(24*60 + 1)*5 + 20, \n",
        "                    'sensible heat': np.random.random(24*60 + 1)*5 + 20, \n",
        "                    'latent heat':   np.random.random(24*60 + 1)*5 + 5,\n",
        "                    'residual':      np.random.random(24*60 + 1)*5 + 5,\n",
        "                    })\n",
        "seb.index = seb.time"
      ],
      "id": "cf2c9b8e",
      "execution_count": null,
      "outputs": []
    },
    {
      "cell_type": "markdown",
      "metadata": {},
      "source": [
        "## Row {height=25%}"
      ],
      "id": "ed4da331"
    },
    {
      "cell_type": "code",
      "metadata": {},
      "source": [
        "fig = px.line(seb, x='time', y=\"net radiation\")\n",
        "fig.show()"
      ],
      "id": "7629c21d",
      "execution_count": null,
      "outputs": []
    },
    {
      "cell_type": "markdown",
      "metadata": {},
      "source": [
        "## Row {height=25%}"
      ],
      "id": "7b2f050f"
    },
    {
      "cell_type": "code",
      "metadata": {},
      "source": [
        "fig = px.line(seb, x='time', y=\"sensible heat\")\n",
        "fig.show()"
      ],
      "id": "ab4ceb23",
      "execution_count": null,
      "outputs": []
    },
    {
      "cell_type": "markdown",
      "metadata": {},
      "source": [
        "## Row {height=25%}"
      ],
      "id": "e48f3164"
    },
    {
      "cell_type": "code",
      "metadata": {},
      "source": [
        "fig = px.line(seb, x='time', y=\"latent heat\")\n",
        "fig.show()"
      ],
      "id": "68ea6cc4",
      "execution_count": null,
      "outputs": []
    },
    {
      "cell_type": "markdown",
      "metadata": {},
      "source": [
        "## Row {height=25%}"
      ],
      "id": "34b07f99"
    },
    {
      "cell_type": "code",
      "metadata": {},
      "source": [
        "fig = px.line(seb, x='time', y=\"residual\")\n",
        "fig.show()"
      ],
      "id": "f5477e1c",
      "execution_count": null,
      "outputs": []
    },
    {
      "cell_type": "markdown",
      "metadata": {},
      "source": [
        "# CLD\n"
      ],
      "id": "3276706f"
    },
    {
      "cell_type": "code",
      "metadata": {},
      "source": [
        "cld = pd.DataFrame({'time': pd.date_range(start='2023-11-07', end='2023-11-08', freq='min'),\n",
        "                    'fraction': np.random.random(24*60 + 1), \n",
        "                    'phase': np.random.random(24*60 + 1),\n",
        "                    'precip': np.random.random(24*60 + 1)*5 + 5\n",
        "                    })\n",
        "cld.index = cld.time"
      ],
      "id": "0223778c",
      "execution_count": null,
      "outputs": []
    },
    {
      "cell_type": "markdown",
      "metadata": {},
      "source": [
        "## Row {height=25%}"
      ],
      "id": "ac8907c2"
    },
    {
      "cell_type": "code",
      "metadata": {},
      "source": [
        "fig = px.line(cld, x='time', y=\"fraction\")\n",
        "fig.update_traces(line_color='purple')"
      ],
      "id": "8a9ca5c0",
      "execution_count": null,
      "outputs": []
    },
    {
      "cell_type": "markdown",
      "metadata": {},
      "source": [
        "## Row {height=25%}"
      ],
      "id": "5144d9bd"
    },
    {
      "cell_type": "code",
      "metadata": {},
      "source": [
        "fig = px.line(cld, x='time', y=\"phase\")\n",
        "fig.update_traces(line_color='green')"
      ],
      "id": "ef70d8aa",
      "execution_count": null,
      "outputs": []
    },
    {
      "cell_type": "markdown",
      "metadata": {},
      "source": [
        "## Row {height=25%}"
      ],
      "id": "4a188caf"
    },
    {
      "cell_type": "code",
      "metadata": {},
      "source": [
        "fig = px.line(cld, x='time', y=\"precip\")\n",
        "fig.update_traces(line_color='darkgray')"
      ],
      "id": "24c495b8",
      "execution_count": null,
      "outputs": []
    }
  ],
  "metadata": {
    "kernelspec": {
      "name": "python3",
      "language": "python",
      "display_name": "Python 3 (ipykernel)"
    }
  },
  "nbformat": 4,
  "nbformat_minor": 5
}